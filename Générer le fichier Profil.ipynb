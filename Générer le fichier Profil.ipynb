{
 "cells": [
  {
   "cell_type": "code",
   "execution_count": 1,
   "id": "417ef92f",
   "metadata": {},
   "outputs": [],
   "source": [
    "import os\n",
    "import petl as etl\n",
    "#import pandas as pd\n",
    "import magic\n",
    "import sys\n",
    "import csv\n",
    "from openpyxl import Workbook\n",
    "from openpyxl.worksheet.table import Table, TableStyleInfo\n",
    "from openpyxl.styles import PatternFill, Border, Side, Alignment, Protection, Font, NamedStyle"
   ]
  },
  {
   "cell_type": "code",
   "execution_count": 2,
   "id": "13ff0f65",
   "metadata": {},
   "outputs": [],
   "source": [
    "maxInt = sys.maxsize\n",
    "while True:\n",
    "    try:\n",
    "        csv.field_size_limit(maxInt)\n",
    "        break\n",
    "    except OverflowError:\n",
    "        maxInt = int(maxInt/10)"
   ]
  },
  {
   "cell_type": "code",
   "execution_count": 3,
   "id": "f6047ee3",
   "metadata": {},
   "outputs": [
    {
     "name": "stdout",
     "output_type": "stream",
     "text": [
      "Entrez le nom du fichierPLES_ExtractionTest_20210607\n"
     ]
    }
   ],
   "source": [
    "#Demander le nom du fichier de données\n",
    "filename = input(str('Entrez le nom du fichier'))\n",
    "# dans ce cas d'exemple: PLES_ExtractionTest_20210607"
   ]
  },
  {
   "cell_type": "code",
   "execution_count": 4,
   "id": "e1df20de",
   "metadata": {},
   "outputs": [
    {
     "name": "stdout",
     "output_type": "stream",
     "text": [
      "Type de fichier MARC21, csv, texte, xml:  csv\n"
     ]
    }
   ],
   "source": [
    "#Demander le type du fichier\n",
    "filetype = input(str('Type de fichier MARC21, csv, texte, xml:  ')) "
   ]
  },
  {
   "cell_type": "code",
   "execution_count": 5,
   "id": "fa9eccdb",
   "metadata": {},
   "outputs": [
    {
     "name": "stdout",
     "output_type": "stream",
     "text": [
      "Séparateur de champs à utiliser? |\n"
     ]
    }
   ],
   "source": [
    "#Demander le séparateur\n",
    "sep = input(str('Séparateur de champs à utiliser? '))"
   ]
  },
  {
   "cell_type": "code",
   "execution_count": 6,
   "id": "7a7e9886",
   "metadata": {},
   "outputs": [
    {
     "data": {
      "text/plain": [
       "['PLESAUT1',\n",
       " 'PLESBIB1',\n",
       " 'PLES_CA_DT_COPIES_PRICE',\n",
       " 'PLES_CI_DT_FINES',\n",
       " 'PLES_CI_DT_LOAN',\n",
       " 'PLES_CI_DT_MESSAGE',\n",
       " 'PLES_CI_DT_NOTE',\n",
       " 'PLES_CI_DT_PYMTS_LINK',\n",
       " 'PLES_CI_DT_REFERENCES',\n",
       " 'PLES_CI_DT_RESV_COPIES',\n",
       " 'PLES_CI_DT_RESV_LIST',\n",
       " 'PLES_CI_DT_SUBSCRIBER']"
      ]
     },
     "execution_count": 6,
     "metadata": {},
     "output_type": "execute_result"
    }
   ],
   "source": [
    "#stocker le contenu du fichier\n",
    "f = os.listdir(\"racine/source/test/\" + filename)\n",
    "f"
   ]
  },
  {
   "cell_type": "code",
   "execution_count": null,
   "id": "9f1b3940",
   "metadata": {},
   "outputs": [],
   "source": [
    "#if filetype == 'csv':\n",
    "# a boucler !!!!!!!!\n",
    "f0 = etl.fromcsv('racine/source/test/' + filename + '/' + f[0],delimiter = sep)\n",
    "f1 = etl.fromcsv('racine/source/test/' + filename + '/' + f[1],delimiter = sep)\n",
    "f2 = etl.fromcsv('racine/source/test/' + filename + '/' + f[2],delimiter = sep)\n",
    "f3 = etl.fromcsv('racine/source/test/' + filename + '/' + f[3],delimiter = sep)\n",
    "f4 = etl.fromcsv('racine/source/test/' + filename + '/' + f[4],delimiter = sep)\n",
    "f5 = etl.fromcsv('racine/source/test/' + filename + '/' + f[5],delimiter = sep)\n",
    "f6 = etl.fromcsv('racine/source/test/' + filename + '/' + f[6],delimiter = sep)\n",
    "f7 = etl.fromcsv('racine/source/test/' + filename + '/' + f[7],delimiter = sep)\n",
    "f8 = etl.fromcsv('racine/source/test/' + filename + '/' + f[8],delimiter = sep)\n",
    "f9 = etl.fromcsv('racine/source/test/' + filename + '/' + f[9],delimiter = sep)\n",
    "f10 = etl.fromcsv('racine/source/test/' + filename + '/' + f[10],delimiter = sep)\n",
    "f11 = etl.fromcsv('racine/source/test/' + filename + '/' + f[11],delimiter = sep)\n",
    "\n"
   ]
  },
  {
   "cell_type": "code",
   "execution_count": 9,
   "id": "845004d4",
   "metadata": {},
   "outputs": [],
   "source": [
    "ff=[]\n",
    "for i in range (0,len(f)):\n",
    "    ff.append(etl.fromcsv(f[i],delimiter = sep))"
   ]
  },
  {
   "cell_type": "code",
   "execution_count": 10,
   "id": "0144dc5f",
   "metadata": {},
   "outputs": [
    {
     "ename": "FileNotFoundError",
     "evalue": "[Errno 2] No such file or directory: 'PLES_CI_DT_SUBSCRIBER'",
     "output_type": "error",
     "traceback": [
      "\u001b[1;31m---------------------------------------------------------------------------\u001b[0m",
      "\u001b[1;31mFileNotFoundError\u001b[0m                         Traceback (most recent call last)",
      "\u001b[1;32m<ipython-input-10-f390b28bbe53>\u001b[0m in \u001b[0;36m<module>\u001b[1;34m\u001b[0m\n\u001b[0;32m     37\u001b[0m     \u001b[1;32mfor\u001b[0m \u001b[0mrow\u001b[0m \u001b[1;32min\u001b[0m \u001b[0mws\u001b[0m\u001b[1;33m.\u001b[0m\u001b[0miter_rows\u001b[0m\u001b[1;33m(\u001b[0m\u001b[0mmin_row\u001b[0m\u001b[1;33m=\u001b[0m\u001b[0mx\u001b[0m\u001b[1;33m+\u001b[0m\u001b[1;36m3\u001b[0m\u001b[1;33m,\u001b[0m \u001b[0mmin_col\u001b[0m\u001b[1;33m=\u001b[0m\u001b[1;36m5\u001b[0m\u001b[1;33m,\u001b[0m \u001b[0mmax_col\u001b[0m\u001b[1;33m=\u001b[0m\u001b[1;36m5\u001b[0m\u001b[1;33m,\u001b[0m \u001b[0mmax_row\u001b[0m\u001b[1;33m=\u001b[0m\u001b[0mx\u001b[0m\u001b[1;33m+\u001b[0m\u001b[1;36m3\u001b[0m\u001b[1;33m)\u001b[0m\u001b[1;33m:\u001b[0m\u001b[1;33m\u001b[0m\u001b[1;33m\u001b[0m\u001b[0m\n\u001b[0;32m     38\u001b[0m         \u001b[1;32mfor\u001b[0m \u001b[0mcell\u001b[0m \u001b[1;32min\u001b[0m \u001b[0mrow\u001b[0m\u001b[1;33m:\u001b[0m\u001b[1;33m\u001b[0m\u001b[1;33m\u001b[0m\u001b[0m\n\u001b[1;32m---> 39\u001b[1;33m             \u001b[0mcell\u001b[0m\u001b[1;33m.\u001b[0m\u001b[0mvalue\u001b[0m \u001b[1;33m=\u001b[0m \u001b[0mlen\u001b[0m\u001b[1;33m(\u001b[0m\u001b[0mff\u001b[0m\u001b[1;33m[\u001b[0m\u001b[0mi\u001b[0m\u001b[1;33m]\u001b[0m\u001b[1;33m)\u001b[0m\u001b[1;33m\u001b[0m\u001b[1;33m\u001b[0m\u001b[0m\n\u001b[0m\u001b[0;32m     40\u001b[0m \u001b[0mx\u001b[0m\u001b[1;33m+=\u001b[0m\u001b[1;36m1\u001b[0m\u001b[1;33m\u001b[0m\u001b[1;33m\u001b[0m\u001b[0m\n\u001b[0;32m     41\u001b[0m \u001b[1;31m#saving the file\u001b[0m\u001b[1;33m\u001b[0m\u001b[1;33m\u001b[0m\u001b[1;33m\u001b[0m\u001b[0m\n",
      "\u001b[1;32mE:\\Anaconda\\envs\\inlibro01\\lib\\site-packages\\petl\\util\\base.py\u001b[0m in \u001b[0;36m__len__\u001b[1;34m(self)\u001b[0m\n\u001b[0;32m     26\u001b[0m \u001b[1;33m\u001b[0m\u001b[0m\n\u001b[0;32m     27\u001b[0m     \u001b[1;32mdef\u001b[0m \u001b[0m__len__\u001b[0m\u001b[1;33m(\u001b[0m\u001b[0mself\u001b[0m\u001b[1;33m)\u001b[0m\u001b[1;33m:\u001b[0m\u001b[1;33m\u001b[0m\u001b[1;33m\u001b[0m\u001b[0m\n\u001b[1;32m---> 28\u001b[1;33m         \u001b[1;32mreturn\u001b[0m \u001b[0msum\u001b[0m\u001b[1;33m(\u001b[0m\u001b[1;36m1\u001b[0m \u001b[1;32mfor\u001b[0m \u001b[0m_\u001b[0m \u001b[1;32min\u001b[0m \u001b[0mself\u001b[0m\u001b[1;33m)\u001b[0m\u001b[1;33m\u001b[0m\u001b[1;33m\u001b[0m\u001b[0m\n\u001b[0m\u001b[0;32m     29\u001b[0m \u001b[1;33m\u001b[0m\u001b[0m\n\u001b[0;32m     30\u001b[0m     \u001b[1;32mdef\u001b[0m \u001b[0m__getitem__\u001b[0m\u001b[1;33m(\u001b[0m\u001b[0mself\u001b[0m\u001b[1;33m,\u001b[0m \u001b[0mitem\u001b[0m\u001b[1;33m)\u001b[0m\u001b[1;33m:\u001b[0m\u001b[1;33m\u001b[0m\u001b[1;33m\u001b[0m\u001b[0m\n",
      "\u001b[1;32mE:\\Anaconda\\envs\\inlibro01\\lib\\site-packages\\petl\\util\\base.py\u001b[0m in \u001b[0;36m<genexpr>\u001b[1;34m(.0)\u001b[0m\n\u001b[0;32m     26\u001b[0m \u001b[1;33m\u001b[0m\u001b[0m\n\u001b[0;32m     27\u001b[0m     \u001b[1;32mdef\u001b[0m \u001b[0m__len__\u001b[0m\u001b[1;33m(\u001b[0m\u001b[0mself\u001b[0m\u001b[1;33m)\u001b[0m\u001b[1;33m:\u001b[0m\u001b[1;33m\u001b[0m\u001b[1;33m\u001b[0m\u001b[0m\n\u001b[1;32m---> 28\u001b[1;33m         \u001b[1;32mreturn\u001b[0m \u001b[0msum\u001b[0m\u001b[1;33m(\u001b[0m\u001b[1;36m1\u001b[0m \u001b[1;32mfor\u001b[0m \u001b[0m_\u001b[0m \u001b[1;32min\u001b[0m \u001b[0mself\u001b[0m\u001b[1;33m)\u001b[0m\u001b[1;33m\u001b[0m\u001b[1;33m\u001b[0m\u001b[0m\n\u001b[0m\u001b[0;32m     29\u001b[0m \u001b[1;33m\u001b[0m\u001b[0m\n\u001b[0;32m     30\u001b[0m     \u001b[1;32mdef\u001b[0m \u001b[0m__getitem__\u001b[0m\u001b[1;33m(\u001b[0m\u001b[0mself\u001b[0m\u001b[1;33m,\u001b[0m \u001b[0mitem\u001b[0m\u001b[1;33m)\u001b[0m\u001b[1;33m:\u001b[0m\u001b[1;33m\u001b[0m\u001b[1;33m\u001b[0m\u001b[0m\n",
      "\u001b[1;32mE:\\Anaconda\\envs\\inlibro01\\lib\\site-packages\\petl\\io\\csv_py3.py\u001b[0m in \u001b[0;36m__iter__\u001b[1;34m(self)\u001b[0m\n\u001b[0;32m     30\u001b[0m         \u001b[1;32mif\u001b[0m \u001b[0mself\u001b[0m\u001b[1;33m.\u001b[0m\u001b[0mheader\u001b[0m \u001b[1;32mis\u001b[0m \u001b[1;32mnot\u001b[0m \u001b[1;32mNone\u001b[0m\u001b[1;33m:\u001b[0m\u001b[1;33m\u001b[0m\u001b[1;33m\u001b[0m\u001b[0m\n\u001b[0;32m     31\u001b[0m           \u001b[1;32myield\u001b[0m \u001b[0mtuple\u001b[0m\u001b[1;33m(\u001b[0m\u001b[0mself\u001b[0m\u001b[1;33m.\u001b[0m\u001b[0mheader\u001b[0m\u001b[1;33m)\u001b[0m\u001b[1;33m\u001b[0m\u001b[1;33m\u001b[0m\u001b[0m\n\u001b[1;32m---> 32\u001b[1;33m         \u001b[1;32mwith\u001b[0m \u001b[0mself\u001b[0m\u001b[1;33m.\u001b[0m\u001b[0msource\u001b[0m\u001b[1;33m.\u001b[0m\u001b[0mopen\u001b[0m\u001b[1;33m(\u001b[0m\u001b[1;34m'rb'\u001b[0m\u001b[1;33m)\u001b[0m \u001b[1;32mas\u001b[0m \u001b[0mbuf\u001b[0m\u001b[1;33m:\u001b[0m\u001b[1;33m\u001b[0m\u001b[1;33m\u001b[0m\u001b[0m\n\u001b[0m\u001b[0;32m     33\u001b[0m             csvfile = io.TextIOWrapper(buf, encoding=self.encoding,\n\u001b[0;32m     34\u001b[0m                                        errors=self.errors, newline='')\n",
      "\u001b[1;32mE:\\Anaconda\\envs\\inlibro01\\lib\\site-packages\\petl\\io\\sources.py\u001b[0m in \u001b[0;36mopen\u001b[1;34m(self, mode)\u001b[0m\n\u001b[0;32m     31\u001b[0m \u001b[1;33m\u001b[0m\u001b[0m\n\u001b[0;32m     32\u001b[0m     \u001b[1;32mdef\u001b[0m \u001b[0mopen\u001b[0m\u001b[1;33m(\u001b[0m\u001b[0mself\u001b[0m\u001b[1;33m,\u001b[0m \u001b[0mmode\u001b[0m\u001b[1;33m=\u001b[0m\u001b[1;34m'r'\u001b[0m\u001b[1;33m)\u001b[0m\u001b[1;33m:\u001b[0m\u001b[1;33m\u001b[0m\u001b[1;33m\u001b[0m\u001b[0m\n\u001b[1;32m---> 33\u001b[1;33m         \u001b[1;32mreturn\u001b[0m \u001b[0mio\u001b[0m\u001b[1;33m.\u001b[0m\u001b[0mopen\u001b[0m\u001b[1;33m(\u001b[0m\u001b[0mself\u001b[0m\u001b[1;33m.\u001b[0m\u001b[0mfilename\u001b[0m\u001b[1;33m,\u001b[0m \u001b[0mmode\u001b[0m\u001b[1;33m,\u001b[0m \u001b[1;33m**\u001b[0m\u001b[0mself\u001b[0m\u001b[1;33m.\u001b[0m\u001b[0mkwargs\u001b[0m\u001b[1;33m)\u001b[0m\u001b[1;33m\u001b[0m\u001b[1;33m\u001b[0m\u001b[0m\n\u001b[0m\u001b[0;32m     34\u001b[0m \u001b[1;33m\u001b[0m\u001b[0m\n\u001b[0;32m     35\u001b[0m \u001b[1;33m\u001b[0m\u001b[0m\n",
      "\u001b[1;31mFileNotFoundError\u001b[0m: [Errno 2] No such file or directory: 'PLES_CI_DT_SUBSCRIBER'"
     ]
    }
   ],
   "source": [
    "#generating the file\n",
    "wb = Workbook()\n",
    "#Generating the first sheet\n",
    "ws = wb.active\n",
    "ws.title = (\"Fichiers\")\n",
    "#Les deux premieres lignes standard\n",
    "Hd0 = [\"source\",\"Portfolio\"]\n",
    "Hd1 = [\"Fichiers\",\"Type\",\"Separateur\",\"Encodage\",\"Quantite de donnees\",\"Donnees\",\"Cle du fichier\",\"Fichier a fusionner\",\"Cle a utiliser\"]\n",
    "ws.append(Hd0)\n",
    "ws.append(Hd1)\n",
    "#1ere colonne \"fichier\" \n",
    "for x in range(0,len(f)) :\n",
    "    for row in ws.iter_rows(min_row=x+3, min_col=1, max_col=1, max_row=x+3):\n",
    "        for cell in row:\n",
    "            cell.value = f[x]\n",
    "x+=1    \n",
    "#2eme colonne \"type\"\n",
    "for x in range(0,len(f)) :\n",
    "    for row in ws.iter_rows(min_row=x+3, min_col=2, max_col=2, max_row=x+3):\n",
    "        for cell in row:\n",
    "            cell.value = magic.from_buffer(f[x])\n",
    "x+=1\n",
    "#3eme colonne \"separateur\"\n",
    "for x in range(0,len(f)) :\n",
    "    for row in ws.iter_rows(min_row=x+3, min_col=3, max_col=3, max_row=x+3):\n",
    "        for cell in row:\n",
    "            cell.value = sep\n",
    "x+=1\n",
    "#4eme colonne \"encodage\"\n",
    "for x in range(0,len(f)) :\n",
    "    for row in ws.iter_rows(min_row=x+3, min_col=4, max_col=4, max_row=x+3):\n",
    "        for cell in row:\n",
    "            cell.value = 'utf-8-'\n",
    "x+=1\n",
    "#5eme colonne \"quantité de données\"\n",
    "for x in range(0,len(f)) :\n",
    "    for row in ws.iter_rows(min_row=x+3, min_col=5, max_col=5, max_row=x+3):\n",
    "        for cell in row:\n",
    "            cell.value = len(ff[i])\n",
    "x+=1\n",
    "#saving the file\n",
    "wb.save(\"racine/sortie/test/profil.xlsx\")"
   ]
  },
  {
   "cell_type": "code",
   "execution_count": 11,
   "id": "fb93a1fd",
   "metadata": {},
   "outputs": [],
   "source": [
    "#Generating the 2 & 3 sheet\n",
    "ws2 = wb.create_sheet(\"Valeurs par defaut\")\n",
    "ws3 = wb.create_sheet(\"Correspondances\")\n",
    "\n",
    "ws2['A1'] = \"Code régional(telephone)\"\n",
    "ws2['A2'] = \"Province\"\n",
    "\n",
    "wb.save(\"racine/sortie/test/profil.xlsx\")"
   ]
  },
  {
   "cell_type": "code",
   "execution_count": 12,
   "id": "70e23ebe",
   "metadata": {},
   "outputs": [],
   "source": [
    "#Generating the other sheets\n",
    "for i in range (0,len(f)):\n",
    "    new_ws = wb.create_sheet(\"ws \"+f[i])\n",
    "wb.save(\"racine/sortie/test/profil.xlsx\")"
   ]
  },
  {
   "cell_type": "code",
   "execution_count": 13,
   "id": "62b58df9",
   "metadata": {},
   "outputs": [],
   "source": [
    "#Remplissage des sheets créées \n",
    "Hd2 = [\"Champs\",\"Cle\",\"Nombres de valeurs distinctes\",\"Nombres de valeurs vides\",\"Types de donnees\",\"Champ Koha\",\"Correspondance\",\"Operateur\",\"Valeur1\",\"Valeur2\"]\n",
    "\n",
    "for x in range(3,len(wb.sheetnames)):\n",
    "    wb.active = x\n",
    "    wb.active.append(Hd2)\n",
    "wb.save(\"racine/sortie/test/profil.xlsx\")"
   ]
  },
  {
   "cell_type": "code",
   "execution_count": 14,
   "id": "42c6315b",
   "metadata": {},
   "outputs": [
    {
     "ename": "FileNotFoundError",
     "evalue": "[Errno 2] No such file or directory: 'PLESAUT1'",
     "output_type": "error",
     "traceback": [
      "\u001b[1;31m---------------------------------------------------------------------------\u001b[0m",
      "\u001b[1;31mFileNotFoundError\u001b[0m                         Traceback (most recent call last)",
      "\u001b[1;32m<ipython-input-14-9673961563af>\u001b[0m in \u001b[0;36m<module>\u001b[1;34m\u001b[0m\n\u001b[0;32m      2\u001b[0m \u001b[1;32mfor\u001b[0m \u001b[0mx\u001b[0m \u001b[1;32min\u001b[0m \u001b[0mrange\u001b[0m\u001b[1;33m(\u001b[0m\u001b[1;36m3\u001b[0m\u001b[1;33m,\u001b[0m\u001b[0mlen\u001b[0m\u001b[1;33m(\u001b[0m\u001b[0mwb\u001b[0m\u001b[1;33m.\u001b[0m\u001b[0msheetnames\u001b[0m\u001b[1;33m)\u001b[0m\u001b[1;33m)\u001b[0m\u001b[1;33m:\u001b[0m\u001b[1;33m\u001b[0m\u001b[1;33m\u001b[0m\u001b[0m\n\u001b[0;32m      3\u001b[0m     \u001b[1;32mfor\u001b[0m \u001b[0mi\u001b[0m \u001b[1;32min\u001b[0m \u001b[0mrange\u001b[0m \u001b[1;33m(\u001b[0m\u001b[1;36m0\u001b[0m\u001b[1;33m,\u001b[0m\u001b[0mlen\u001b[0m\u001b[1;33m(\u001b[0m\u001b[0mf\u001b[0m\u001b[1;33m)\u001b[0m\u001b[1;33m)\u001b[0m\u001b[1;33m:\u001b[0m\u001b[1;33m\u001b[0m\u001b[1;33m\u001b[0m\u001b[0m\n\u001b[1;32m----> 4\u001b[1;33m         \u001b[0mc\u001b[0m \u001b[1;33m=\u001b[0m \u001b[0mlist\u001b[0m\u001b[1;33m(\u001b[0m\u001b[0metl\u001b[0m\u001b[1;33m.\u001b[0m\u001b[0mheader\u001b[0m\u001b[1;33m(\u001b[0m\u001b[0mff\u001b[0m\u001b[1;33m[\u001b[0m\u001b[0mi\u001b[0m\u001b[1;33m]\u001b[0m\u001b[1;33m)\u001b[0m\u001b[1;33m)\u001b[0m\u001b[1;33m\u001b[0m\u001b[1;33m\u001b[0m\u001b[0m\n\u001b[0m\u001b[0;32m      5\u001b[0m         \u001b[1;32mfor\u001b[0m \u001b[0mrow\u001b[0m \u001b[1;32min\u001b[0m \u001b[0mws\u001b[0m\u001b[1;33m.\u001b[0m\u001b[0miter_rows\u001b[0m\u001b[1;33m(\u001b[0m\u001b[0mmin_row\u001b[0m\u001b[1;33m=\u001b[0m\u001b[1;36m2\u001b[0m\u001b[1;33m,\u001b[0m \u001b[0mmin_col\u001b[0m\u001b[1;33m=\u001b[0m\u001b[1;36m1\u001b[0m\u001b[1;33m,\u001b[0m \u001b[0mmax_col\u001b[0m\u001b[1;33m=\u001b[0m\u001b[1;36m1\u001b[0m\u001b[1;33m,\u001b[0m \u001b[0mmax_row\u001b[0m\u001b[1;33m=\u001b[0m\u001b[1;36m11\u001b[0m\u001b[1;33m)\u001b[0m\u001b[1;33m:\u001b[0m\u001b[1;33m\u001b[0m\u001b[1;33m\u001b[0m\u001b[0m\n\u001b[0;32m      6\u001b[0m             \u001b[1;32mfor\u001b[0m \u001b[0mcell\u001b[0m \u001b[1;32min\u001b[0m \u001b[0mrow\u001b[0m\u001b[1;33m:\u001b[0m\u001b[1;33m\u001b[0m\u001b[1;33m\u001b[0m\u001b[0m\n",
      "\u001b[1;32mE:\\Anaconda\\envs\\inlibro01\\lib\\site-packages\\petl\\util\\base.py\u001b[0m in \u001b[0;36mheader\u001b[1;34m(table)\u001b[0m\n\u001b[0;32m    334\u001b[0m \u001b[1;33m\u001b[0m\u001b[0m\n\u001b[0;32m    335\u001b[0m     \u001b[0mit\u001b[0m \u001b[1;33m=\u001b[0m \u001b[0miter\u001b[0m\u001b[1;33m(\u001b[0m\u001b[0mtable\u001b[0m\u001b[1;33m)\u001b[0m\u001b[1;33m\u001b[0m\u001b[1;33m\u001b[0m\u001b[0m\n\u001b[1;32m--> 336\u001b[1;33m     \u001b[1;32mreturn\u001b[0m \u001b[0mtuple\u001b[0m\u001b[1;33m(\u001b[0m\u001b[0mnext\u001b[0m\u001b[1;33m(\u001b[0m\u001b[0mit\u001b[0m\u001b[1;33m)\u001b[0m\u001b[1;33m)\u001b[0m\u001b[1;33m\u001b[0m\u001b[1;33m\u001b[0m\u001b[0m\n\u001b[0m\u001b[0;32m    337\u001b[0m \u001b[1;33m\u001b[0m\u001b[0m\n\u001b[0;32m    338\u001b[0m \u001b[1;33m\u001b[0m\u001b[0m\n",
      "\u001b[1;32mE:\\Anaconda\\envs\\inlibro01\\lib\\site-packages\\petl\\io\\csv_py3.py\u001b[0m in \u001b[0;36m__iter__\u001b[1;34m(self)\u001b[0m\n\u001b[0;32m     30\u001b[0m         \u001b[1;32mif\u001b[0m \u001b[0mself\u001b[0m\u001b[1;33m.\u001b[0m\u001b[0mheader\u001b[0m \u001b[1;32mis\u001b[0m \u001b[1;32mnot\u001b[0m \u001b[1;32mNone\u001b[0m\u001b[1;33m:\u001b[0m\u001b[1;33m\u001b[0m\u001b[1;33m\u001b[0m\u001b[0m\n\u001b[0;32m     31\u001b[0m           \u001b[1;32myield\u001b[0m \u001b[0mtuple\u001b[0m\u001b[1;33m(\u001b[0m\u001b[0mself\u001b[0m\u001b[1;33m.\u001b[0m\u001b[0mheader\u001b[0m\u001b[1;33m)\u001b[0m\u001b[1;33m\u001b[0m\u001b[1;33m\u001b[0m\u001b[0m\n\u001b[1;32m---> 32\u001b[1;33m         \u001b[1;32mwith\u001b[0m \u001b[0mself\u001b[0m\u001b[1;33m.\u001b[0m\u001b[0msource\u001b[0m\u001b[1;33m.\u001b[0m\u001b[0mopen\u001b[0m\u001b[1;33m(\u001b[0m\u001b[1;34m'rb'\u001b[0m\u001b[1;33m)\u001b[0m \u001b[1;32mas\u001b[0m \u001b[0mbuf\u001b[0m\u001b[1;33m:\u001b[0m\u001b[1;33m\u001b[0m\u001b[1;33m\u001b[0m\u001b[0m\n\u001b[0m\u001b[0;32m     33\u001b[0m             csvfile = io.TextIOWrapper(buf, encoding=self.encoding,\n\u001b[0;32m     34\u001b[0m                                        errors=self.errors, newline='')\n",
      "\u001b[1;32mE:\\Anaconda\\envs\\inlibro01\\lib\\site-packages\\petl\\io\\sources.py\u001b[0m in \u001b[0;36mopen\u001b[1;34m(self, mode)\u001b[0m\n\u001b[0;32m     31\u001b[0m \u001b[1;33m\u001b[0m\u001b[0m\n\u001b[0;32m     32\u001b[0m     \u001b[1;32mdef\u001b[0m \u001b[0mopen\u001b[0m\u001b[1;33m(\u001b[0m\u001b[0mself\u001b[0m\u001b[1;33m,\u001b[0m \u001b[0mmode\u001b[0m\u001b[1;33m=\u001b[0m\u001b[1;34m'r'\u001b[0m\u001b[1;33m)\u001b[0m\u001b[1;33m:\u001b[0m\u001b[1;33m\u001b[0m\u001b[1;33m\u001b[0m\u001b[0m\n\u001b[1;32m---> 33\u001b[1;33m         \u001b[1;32mreturn\u001b[0m \u001b[0mio\u001b[0m\u001b[1;33m.\u001b[0m\u001b[0mopen\u001b[0m\u001b[1;33m(\u001b[0m\u001b[0mself\u001b[0m\u001b[1;33m.\u001b[0m\u001b[0mfilename\u001b[0m\u001b[1;33m,\u001b[0m \u001b[0mmode\u001b[0m\u001b[1;33m,\u001b[0m \u001b[1;33m**\u001b[0m\u001b[0mself\u001b[0m\u001b[1;33m.\u001b[0m\u001b[0mkwargs\u001b[0m\u001b[1;33m)\u001b[0m\u001b[1;33m\u001b[0m\u001b[1;33m\u001b[0m\u001b[0m\n\u001b[0m\u001b[0;32m     34\u001b[0m \u001b[1;33m\u001b[0m\u001b[0m\n\u001b[0;32m     35\u001b[0m \u001b[1;33m\u001b[0m\u001b[0m\n",
      "\u001b[1;31mFileNotFoundError\u001b[0m: [Errno 2] No such file or directory: 'PLESAUT1'"
     ]
    }
   ],
   "source": [
    "#La premiere ligne\n",
    "for x in range(3,len(wb.sheetnames)):\n",
    "    for i in range (0,len(f)):\n",
    "        c = list(etl.header(ff[i]))\n",
    "        for row in ws.iter_rows(min_row=2, min_col=1, max_col=1, max_row=11):\n",
    "            for cell in row:\n",
    "                cell.value = c[i]\n",
    "                \n",
    "wb.save(\"racine/sortie/test/profil.xlsx\")"
   ]
  },
  {
   "cell_type": "code",
   "execution_count": 17,
   "id": "e6b77f7b",
   "metadata": {},
   "outputs": [
    {
     "ename": "SyntaxError",
     "evalue": "invalid syntax (<ipython-input-17-d65cbafdd8da>, line 4)",
     "output_type": "error",
     "traceback": [
      "\u001b[1;36m  File \u001b[1;32m\"<ipython-input-17-d65cbafdd8da>\"\u001b[1;36m, line \u001b[1;32m4\u001b[0m\n\u001b[1;33m    for j in range (0,i+1)\u001b[0m\n\u001b[1;37m                          ^\u001b[0m\n\u001b[1;31mSyntaxError\u001b[0m\u001b[1;31m:\u001b[0m invalid syntax\n"
     ]
    }
   ],
   "source": [
    "#Nombre de valeurs distinctes\n",
    "for x in range(3,len(wb.sheetnames)):\n",
    "    for i in range (0,len(f)):\n",
    "        for j in range (0,i+1)\n",
    "            c = list(etl.header(ff[i]))\n",
    "            val_dis = list(etl.valuecounter(fi,c[i]))\n",
    "            for row in ws.iter_rows(min_row=2, min_col=3, max_col=3, max_row=11):\n",
    "                for cell in row:\n",
    "                    cell.value = val_dis[i]\n",
    "wb.save(\"racine/sortie/test/profil.xlsx\")"
   ]
  },
  {
   "cell_type": "code",
   "execution_count": 18,
   "id": "d756a1b4",
   "metadata": {},
   "outputs": [
    {
     "ename": "SyntaxError",
     "evalue": "invalid syntax (<ipython-input-18-989d1e08884b>, line 4)",
     "output_type": "error",
     "traceback": [
      "\u001b[1;36m  File \u001b[1;32m\"<ipython-input-18-989d1e08884b>\"\u001b[1;36m, line \u001b[1;32m4\u001b[0m\n\u001b[1;33m    for j in range (0,i+1)\u001b[0m\n\u001b[1;37m                          ^\u001b[0m\n\u001b[1;31mSyntaxError\u001b[0m\u001b[1;31m:\u001b[0m invalid syntax\n"
     ]
    }
   ],
   "source": [
    "#Nombre de valeurs vides\n",
    "for x in range(3,len(wb.sheetnames)):\n",
    "    for i in range (0,len(f)):\n",
    "        for j in range (0,i+1)\n",
    "            c = list(etl.header(ff[i]))\n",
    "            val_vid = list(etl.valuecounter(fi,c[i]))\n",
    "            for row in ws.iter_rows(min_row=2, min_col=3, max_col=3, max_row=11):\n",
    "                for cell in row:\n",
    "                    cell.value = val_vid[i]\n",
    "wb.save(\"racine/sortie/test/profil.xlsx\")"
   ]
  },
  {
   "cell_type": "code",
   "execution_count": null,
   "id": "ff5c57a8",
   "metadata": {},
   "outputs": [],
   "source": []
  }
 ],
 "metadata": {
  "kernelspec": {
   "display_name": "Python 3",
   "language": "python",
   "name": "python3"
  },
  "language_info": {
   "codemirror_mode": {
    "name": "ipython",
    "version": 3
   },
   "file_extension": ".py",
   "mimetype": "text/x-python",
   "name": "python",
   "nbconvert_exporter": "python",
   "pygments_lexer": "ipython3",
   "version": "3.7.9"
  }
 },
 "nbformat": 4,
 "nbformat_minor": 5
}
