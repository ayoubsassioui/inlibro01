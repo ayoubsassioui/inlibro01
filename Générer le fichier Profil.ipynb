{
 "cells": [
  {
   "cell_type": "code",
   "execution_count": null,
   "id": "98fe0ce9",
   "metadata": {},
   "outputs": [],
   "source": [
    "import os\n",
    "import petl as etl\n",
    "import pandas as pd\n",
    "import magic\n",
    "import sys\n",
    "import csv\n",
    "from openpyxl import Workbook\n",
    "from openpyxl.worksheet.table import Table, TableStyleInfo\n",
    "from openpyxl.styles import PatternFill, Border, Side, Alignment, Protection, Font, NamedStyle"
   ]
  },
  {
   "cell_type": "code",
   "execution_count": null,
   "id": "f88cbe82",
   "metadata": {},
   "outputs": [],
   "source": [
    "maxInt = sys.maxsize\n",
    "while True:\n",
    "    try:\n",
    "        csv.field_size_limit(maxInt)\n",
    "        break\n",
    "    except OverflowError:\n",
    "        maxInt = int(maxInt/10)"
   ]
  },
  {
   "cell_type": "code",
   "execution_count": null,
   "id": "8ba2780d",
   "metadata": {},
   "outputs": [],
   "source": [
    "#Demander le nom du fichier de données\n",
    "filename = input(str('Entrez le nom du fichier'))\n",
    "# dans ce cas d'exemple: PLES_ExtractionTest_20210607"
   ]
  },
  {
   "cell_type": "code",
   "execution_count": null,
   "id": "c29b072e",
   "metadata": {},
   "outputs": [],
   "source": [
    "#Demander le type du fichier\n",
    "filetype = input(str('Type de fichier [M]ARC21, [c]sv, [t]exte, [x]ml:     M,C,T,X ? ')) "
   ]
  },
  {
   "cell_type": "code",
   "execution_count": null,
   "id": "548d55cc",
   "metadata": {},
   "outputs": [],
   "source": [
    "#Demander le séparateur\n",
    "sep = input(str('Séparateur de champs à utiliser? '))"
   ]
  },
  {
   "cell_type": "code",
   "execution_count": null,
   "id": "dd255596",
   "metadata": {},
   "outputs": [],
   "source": [
    "#stocker le contenu du fichier\n",
    "f = os.listdir(\"racine/source/test/\" + filename)"
   ]
  },
  {
   "cell_type": "code",
   "execution_count": null,
   "id": "040e1325",
   "metadata": {},
   "outputs": [],
   "source": [
    "s = []\n",
    "if filetype == \"C\":\n",
    "    for i in range (0,len(f)):\n",
    "        s.append(etl.fromcsv('racine/source/test/' + filename + '/' + f[i],delimiter = sep, encoding=\"utf8\"))\n",
    "elif filetype == \"X\":\n",
    "    for i in range (0,len(f)):\n",
    "        s.append(etl.fromxml('racine/source/test/' + filename + '/' + f[i], encoding=\"utf8\"))\n",
    "elif filetype == \"T\":\n",
    "     for i in range (0,len(f)):\n",
    "        s.append(etl.fromtext('racine/source/test/' + filename + '/' + f[i], encoding=\"utf8\"))"
   ]
  },
  {
   "cell_type": "code",
   "execution_count": null,
   "id": "7f32042d",
   "metadata": {},
   "outputs": [],
   "source": [
    "#generating the file\n",
    "wb = Workbook()\n",
    "#Generating the first sheet\n",
    "ws = wb.active\n",
    "ws.title = (\"Fichiers\")\n",
    "#Les deux premieres lignes standard\n",
    "Hd0 = [\"source\",\"Portfolio\"]\n",
    "Hd1 = [\"Fichiers\",\"Type\",\"Separateur\",\"Encodage\",\"Quantite de donnees\",\"Donnees\",\"Cle du fichier\",\"Fichier a fusionner\",\"Cle a utiliser\"]\n",
    "ws.append(Hd0)\n",
    "ws.append(Hd1)\n",
    "#1ere colonne \"fichier\" \n",
    "for x in range(0,len(f)) :\n",
    "    for row in ws.iter_rows(min_row=x+3, min_col=1, max_col=1, max_row=x+3):\n",
    "        for cell in row:\n",
    "            cell.value = f[x]\n",
    "x+=1    \n",
    "#2eme colonne \"type\"\n",
    "for x in range(0,len(f)) :\n",
    "    for row in ws.iter_rows(min_row=x+3, min_col=2, max_col=2, max_row=x+3):\n",
    "        for cell in row:\n",
    "            cell.value = magic.from_buffer(f[x])\n",
    "x+=1\n",
    "#3eme colonne \"separateur\"\n",
    "for x in range(0,len(f)) :\n",
    "    for row in ws.iter_rows(min_row=x+3, min_col=3, max_col=3, max_row=x+3):\n",
    "        for cell in row:\n",
    "            cell.value = sep\n",
    "x+=1\n",
    "#4eme colonne \"encodage\"\n",
    "for x in range(0,len(f)) :\n",
    "    for row in ws.iter_rows(min_row=x+3, min_col=4, max_col=4, max_row=x+3):\n",
    "        for cell in row:\n",
    "            cell.value = 'utf-8-'\n",
    "x+=1\n",
    "#5eme colonne \"quantité de données\"\n",
    "for x in range(0,len(f)) :\n",
    "    for row in ws.iter_rows(min_row=x+3, min_col=5, max_col=5, max_row=x+3):\n",
    "        for cell in row:\n",
    "            cell.value = len(s[x])\n",
    "x+=1\n",
    "#saving the file\n",
    "wb.save(\"racine/sortie/test/profil.xlsx\")"
   ]
  },
  {
   "cell_type": "code",
   "execution_count": null,
   "id": "e592cd0d",
   "metadata": {},
   "outputs": [],
   "source": [
    "#Generating the 2 & 3 sheet\n",
    "ws2 = wb.create_sheet(\"Valeurs par defaut\")\n",
    "ws3 = wb.create_sheet(\"Correspondances\")\n",
    "\n",
    "ws2['A1'] = \"Code régional(telephone)\"\n",
    "ws2['A2'] = \"Province\"\n",
    "\n",
    "wb.save(\"racine/sortie/test/profil.xlsx\")"
   ]
  },
  {
   "cell_type": "code",
   "execution_count": null,
   "id": "1450eba5",
   "metadata": {},
   "outputs": [],
   "source": [
    "#Generating the other sheets\n",
    "for i in range (0,len(f)):\n",
    "    new_ws = wb.create_sheet(\"ws \"+f[i])\n",
    "wb.save(\"racine/sortie/test/profil.xlsx\")"
   ]
  },
  {
   "cell_type": "code",
   "execution_count": null,
   "id": "22e70a94",
   "metadata": {},
   "outputs": [],
   "source": [
    "#Remplissage des sheets créées \n",
    "Hd2 = [\"Champs\",\"Cle\",\"Nombres de valeurs distinctes\",\"Nombres de valeurs vides\",\"Types de donnees\",\"Champ Koha\",\"Correspondance\",\"Operateur\",\"Valeur1\",\"Valeur2\"]\n",
    "\n",
    "for x in range(3,len(wb.sheetnames)):\n",
    "    wb.active = x\n",
    "    wb.active.append(Hd2)\n",
    "wb.save(\"racine/sortie/test/profil.xlsx\")"
   ]
  },
  {
   "cell_type": "code",
   "execution_count": null,
   "id": "27a83e1b",
   "metadata": {},
   "outputs": [],
   "source": [
    "#La premiere ligne\n",
    "for x in range(3,len(wb.sheetnames)):\n",
    "    wb.active = x\n",
    "    for i in range (0,len(s)):\n",
    "        for j in range (0,len(etl.header(s[i]))):\n",
    "            for row in wb.active.iter_rows(min_row=2, min_col=1, max_col=1):\n",
    "                for cell in row:\n",
    "                    cell.value = etl.header(s[i])[j]\n",
    "wb.save(\"racine/sortie/test/profil.xlsx\")"
   ]
  },
  {
   "cell_type": "code",
   "execution_count": null,
   "id": "1e40899d",
   "metadata": {},
   "outputs": [],
   "source": [
    "#Nombre de valeurs distinctes\n",
    "for x in range(3,len(wb.sheetnames)):\n",
    "    wb.active = x\n",
    "    for i in range (0,len(f)):\n",
    "        c = list(etl.header(s[i]))\n",
    "        for j in range (0,len(c)):\n",
    "            val_dis = list(etl.valuecounter(s[i],c[j]))\n",
    "            for row in wb.active.iter_rows(min_row=2, min_col=3, max_col=3, max_row=11):\n",
    "                for cell in row:\n",
    "                    cell = val_dis[j]\n",
    "wb.save(\"racine/sortie/test/profil.xlsx\")"
   ]
  },
  {
   "cell_type": "code",
   "execution_count": null,
   "id": "1f772a06",
   "metadata": {},
   "outputs": [],
   "source": [
    "#Nombre de valeurs vides\n",
    "for x in range(3,len(wb.sheetnames)):\n",
    "    wb.active = x\n",
    "    for i in range (0,len(f)):\n",
    "        c = list(etl.header(s[i]))\n",
    "        for j in range (0,len(c)):\n",
    "            val_mis = list(etl.valuecounter(s[i],c[j]))\n",
    "            for row in wb.active.iter_rows(min_row=2, min_col=4, max_col=4, max_row=11):\n",
    "                for cell in row:\n",
    "                    cell = val_mis[j]\n",
    "wb.save(\"racine/sortie/test/profil.xlsx\")"
   ]
  }
 ],
 "metadata": {
  "kernelspec": {
   "display_name": "Python 3",
   "language": "python",
   "name": "python3"
  },
  "language_info": {
   "codemirror_mode": {
    "name": "ipython",
    "version": 3
   },
   "file_extension": ".py",
   "mimetype": "text/x-python",
   "name": "python",
   "nbconvert_exporter": "python",
   "pygments_lexer": "ipython3",
   "version": "3.7.9"
  }
 },
 "nbformat": 4,
 "nbformat_minor": 5
}
