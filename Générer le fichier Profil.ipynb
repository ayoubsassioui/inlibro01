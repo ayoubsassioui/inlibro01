{
 "cells": [
  {
   "cell_type": "code",
   "execution_count": 1,
   "id": "880f5c39",
   "metadata": {},
   "outputs": [],
   "source": [
    "import os\n",
    "import petl as etl\n",
    "import pandas as pd\n",
    "import magic\n",
    "import sys\n",
    "import csv\n",
    "from openpyxl import Workbook\n",
    "from openpyxl.worksheet.table import Table, TableStyleInfo\n",
    "from openpyxl.styles import PatternFill, Border, Side, Alignment, Protection, Font, NamedStyle"
   ]
  },
  {
   "cell_type": "code",
   "execution_count": 2,
   "id": "3fb14e8b",
   "metadata": {},
   "outputs": [],
   "source": [
    "maxInt = sys.maxsize\n",
    "while True:\n",
    "    try:\n",
    "        csv.field_size_limit(maxInt)\n",
    "        break\n",
    "    except OverflowError:\n",
    "        maxInt = int(maxInt/10)"
   ]
  },
  {
   "cell_type": "code",
   "execution_count": 3,
   "id": "ed31e486",
   "metadata": {},
   "outputs": [
    {
     "name": "stdout",
     "output_type": "stream",
     "text": [
      "Entrez le nom du fichierPLES_ExtractionTest_20210607\n"
     ]
    }
   ],
   "source": [
    "#Demander le nom du fichier de données\n",
    "filename = input(str('Entrez le nom du fichier'))\n",
    "# dans ce cas d'exemple: PLES_ExtractionTest_20210607"
   ]
  },
  {
   "cell_type": "code",
   "execution_count": 4,
   "id": "703e799b",
   "metadata": {},
   "outputs": [
    {
     "name": "stdout",
     "output_type": "stream",
     "text": [
      "Type de fichier [M]ARC21, [c]sv, [t]exte, [x]ml:     M,C,T,X ? C\n"
     ]
    }
   ],
   "source": [
    "#Demander le type du fichier\n",
    "filetype = input(str('Type de fichier [M]ARC21, [c]sv, [t]exte, [x]ml:     M,C,T,X ? ')) "
   ]
  },
  {
   "cell_type": "code",
   "execution_count": 5,
   "id": "433d3b6a",
   "metadata": {},
   "outputs": [
    {
     "name": "stdout",
     "output_type": "stream",
     "text": [
      "Séparateur de champs à utiliser? |\n"
     ]
    }
   ],
   "source": [
    "#Demander le séparateur\n",
    "sep = input(str('Séparateur de champs à utiliser? '))"
   ]
  },
  {
   "cell_type": "code",
   "execution_count": 6,
   "id": "f1e3703f",
   "metadata": {},
   "outputs": [],
   "source": [
    "#stocker le contenu du fichier\n",
    "f = os.listdir(\"racine/source/test/\" + filename)"
   ]
  },
  {
   "cell_type": "code",
   "execution_count": 7,
   "id": "0dc582ba",
   "metadata": {},
   "outputs": [],
   "source": [
    "s = []\n",
    "if filetype == \"C\":\n",
    "    for i in range (0,len(f)):\n",
    "        s.append(etl.fromcsv('racine/source/test/' + filename + '/' + f[i],delimiter = sep, encoding=\"utf8\"))\n",
    "elif filetype == \"X\":\n",
    "    for i in range (0,len(f)):\n",
    "        s.append(etl.fromxml('racine/source/test/' + filename + '/' + f[i], encoding=\"utf8\"))\n",
    "elif filetype == \"T\":\n",
    "     for i in range (0,len(f)):\n",
    "        s.append(etl.fromtext('racine/source/test/' + filename + '/' + f[i], encoding=\"utf8\"))"
   ]
  },
  {
   "cell_type": "code",
   "execution_count": 9,
   "id": "4e8effde",
   "metadata": {},
   "outputs": [],
   "source": [
    "#generating the file\n",
    "wb = Workbook()\n",
    "#Generating the first sheet\n",
    "ws = wb.active\n",
    "ws.title = (\"Fichiers\")\n",
    "#Les deux premieres lignes standard\n",
    "Hd0 = [\"source\",\"Portfolio\"]\n",
    "Hd1 = [\"Fichiers\",\"Type\",\"Separateur\",\"Encodage\",\"Quantite de donnees\",\"Donnees\",\"Cle du fichier\",\"Fichier a fusionner\",\"Cle a utiliser\"]\n",
    "ws.append(Hd0)\n",
    "ws.append(Hd1)\n",
    "#1ere colonne \"fichier\" \n",
    "for x in range(0,len(f)) :\n",
    "    for row in ws.iter_rows(min_row=x+3, min_col=1, max_col=1, max_row=x+3):\n",
    "        for cell in row:\n",
    "            cell.value = f[x]\n",
    "x+=1    \n",
    "#2eme colonne \"type\"\n",
    "for x in range(0,len(f)) :\n",
    "    for row in ws.iter_rows(min_row=x+3, min_col=2, max_col=2, max_row=x+3):\n",
    "        for cell in row:\n",
    "            cell.value = magic.from_buffer(f[x])\n",
    "x+=1\n",
    "#3eme colonne \"separateur\"\n",
    "for x in range(0,len(f)) :\n",
    "    for row in ws.iter_rows(min_row=x+3, min_col=3, max_col=3, max_row=x+3):\n",
    "        for cell in row:\n",
    "            cell.value = sep\n",
    "x+=1\n",
    "#4eme colonne \"encodage\"\n",
    "for x in range(0,len(f)) :\n",
    "    for row in ws.iter_rows(min_row=x+3, min_col=4, max_col=4, max_row=x+3):\n",
    "        for cell in row:\n",
    "            cell.value = 'utf-8-'\n",
    "x+=1\n",
    "#5eme colonne \"quantité de données\"\n",
    "for x in range(0,len(f)) :\n",
    "    for row in ws.iter_rows(min_row=x+3, min_col=5, max_col=5, max_row=x+3):\n",
    "        for cell in row:\n",
    "            cell.value = len(s[x])\n",
    "x+=1\n",
    "#saving the file\n",
    "wb.save(\"racine/sortie/test/profil.xlsx\")"
   ]
  },
  {
   "cell_type": "code",
   "execution_count": 10,
   "id": "1a08f1d8",
   "metadata": {},
   "outputs": [],
   "source": [
    "#Generating the 2 & 3 sheet\n",
    "ws2 = wb.create_sheet(\"Valeurs par defaut\")\n",
    "ws3 = wb.create_sheet(\"Correspondances\")\n",
    "\n",
    "ws2['A1'] = \"Code régional(telephone)\"\n",
    "ws2['A2'] = \"Province\"\n",
    "\n",
    "wb.save(\"racine/sortie/test/profil.xlsx\")"
   ]
  },
  {
   "cell_type": "code",
   "execution_count": 11,
   "id": "7be38dac",
   "metadata": {},
   "outputs": [],
   "source": [
    "#Generating the other sheets\n",
    "for i in range (0,len(f)):\n",
    "    new_ws = wb.create_sheet(\"ws \"+f[i])\n",
    "wb.save(\"racine/sortie/test/profil.xlsx\")"
   ]
  },
  {
   "cell_type": "code",
   "execution_count": 12,
   "id": "f5f3988c",
   "metadata": {},
   "outputs": [],
   "source": [
    "#Remplissage des sheets créées \n",
    "Hd2 = [\"Champs\",\"Cle\",\"Nombres de valeurs distinctes\",\"Nombres de valeurs vides\",\"Types de donnees\",\"Champ Koha\",\"Correspondance\",\"Operateur\",\"Valeur1\",\"Valeur2\"]\n",
    "\n",
    "for x in range(3,len(wb.sheetnames)):\n",
    "    wb.active = x\n",
    "    wb.active.append(Hd2)\n",
    "wb.save(\"racine/sortie/test/profil.xlsx\")"
   ]
  },
  {
   "cell_type": "code",
   "execution_count": 21,
   "id": "8154e84d",
   "metadata": {},
   "outputs": [
    {
     "ename": "IllegalCharacterError",
     "evalue": "",
     "output_type": "error",
     "traceback": [
      "\u001b[1;31m---------------------------------------------------------------------------\u001b[0m",
      "\u001b[1;31mIllegalCharacterError\u001b[0m                     Traceback (most recent call last)",
      "\u001b[1;32m<ipython-input-21-3a4db7116a6f>\u001b[0m in \u001b[0;36m<module>\u001b[1;34m\u001b[0m\n\u001b[0;32m      6\u001b[0m             \u001b[1;32mfor\u001b[0m \u001b[0mrow\u001b[0m \u001b[1;32min\u001b[0m \u001b[0mwb\u001b[0m\u001b[1;33m.\u001b[0m\u001b[0mactive\u001b[0m\u001b[1;33m.\u001b[0m\u001b[0miter_rows\u001b[0m\u001b[1;33m(\u001b[0m\u001b[0mmin_row\u001b[0m\u001b[1;33m=\u001b[0m\u001b[1;36m2\u001b[0m\u001b[1;33m,\u001b[0m \u001b[0mmin_col\u001b[0m\u001b[1;33m=\u001b[0m\u001b[1;36m1\u001b[0m\u001b[1;33m,\u001b[0m \u001b[0mmax_col\u001b[0m\u001b[1;33m=\u001b[0m\u001b[1;36m1\u001b[0m\u001b[1;33m)\u001b[0m\u001b[1;33m:\u001b[0m\u001b[1;33m\u001b[0m\u001b[1;33m\u001b[0m\u001b[0m\n\u001b[0;32m      7\u001b[0m                 \u001b[1;32mfor\u001b[0m \u001b[0mcell\u001b[0m \u001b[1;32min\u001b[0m \u001b[0mrow\u001b[0m\u001b[1;33m:\u001b[0m\u001b[1;33m\u001b[0m\u001b[1;33m\u001b[0m\u001b[0m\n\u001b[1;32m----> 8\u001b[1;33m                     \u001b[0mcell\u001b[0m\u001b[1;33m.\u001b[0m\u001b[0mvalue\u001b[0m \u001b[1;33m=\u001b[0m \u001b[0metl\u001b[0m\u001b[1;33m.\u001b[0m\u001b[0mheader\u001b[0m\u001b[1;33m(\u001b[0m\u001b[0ms\u001b[0m\u001b[1;33m[\u001b[0m\u001b[0mi\u001b[0m\u001b[1;33m]\u001b[0m\u001b[1;33m)\u001b[0m\u001b[1;33m[\u001b[0m\u001b[0mj\u001b[0m\u001b[1;33m]\u001b[0m\u001b[1;33m\u001b[0m\u001b[1;33m\u001b[0m\u001b[0m\n\u001b[0m\u001b[0;32m      9\u001b[0m \u001b[0mwb\u001b[0m\u001b[1;33m.\u001b[0m\u001b[0msave\u001b[0m\u001b[1;33m(\u001b[0m\u001b[1;34m\"racine/sortie/test/profil.xlsx\"\u001b[0m\u001b[1;33m)\u001b[0m\u001b[1;33m\u001b[0m\u001b[1;33m\u001b[0m\u001b[0m\n",
      "\u001b[1;32mE:\\Anaconda\\envs\\inlibro01\\lib\\site-packages\\openpyxl\\cell\\cell.py\u001b[0m in \u001b[0;36mvalue\u001b[1;34m(self, value)\u001b[0m\n\u001b[0;32m    213\u001b[0m     \u001b[1;32mdef\u001b[0m \u001b[0mvalue\u001b[0m\u001b[1;33m(\u001b[0m\u001b[0mself\u001b[0m\u001b[1;33m,\u001b[0m \u001b[0mvalue\u001b[0m\u001b[1;33m)\u001b[0m\u001b[1;33m:\u001b[0m\u001b[1;33m\u001b[0m\u001b[1;33m\u001b[0m\u001b[0m\n\u001b[0;32m    214\u001b[0m         \u001b[1;34m\"\"\"Set the value and infer type and display options.\"\"\"\u001b[0m\u001b[1;33m\u001b[0m\u001b[1;33m\u001b[0m\u001b[0m\n\u001b[1;32m--> 215\u001b[1;33m         \u001b[0mself\u001b[0m\u001b[1;33m.\u001b[0m\u001b[0m_bind_value\u001b[0m\u001b[1;33m(\u001b[0m\u001b[0mvalue\u001b[0m\u001b[1;33m)\u001b[0m\u001b[1;33m\u001b[0m\u001b[1;33m\u001b[0m\u001b[0m\n\u001b[0m\u001b[0;32m    216\u001b[0m \u001b[1;33m\u001b[0m\u001b[0m\n\u001b[0;32m    217\u001b[0m     \u001b[1;33m@\u001b[0m\u001b[0mproperty\u001b[0m\u001b[1;33m\u001b[0m\u001b[1;33m\u001b[0m\u001b[0m\n",
      "\u001b[1;32mE:\\Anaconda\\envs\\inlibro01\\lib\\site-packages\\openpyxl\\cell\\cell.py\u001b[0m in \u001b[0;36m_bind_value\u001b[1;34m(self, value)\u001b[0m\n\u001b[0;32m    192\u001b[0m \u001b[1;33m\u001b[0m\u001b[0m\n\u001b[0;32m    193\u001b[0m         \u001b[1;32melif\u001b[0m \u001b[0mdt\u001b[0m \u001b[1;33m==\u001b[0m \u001b[1;34m\"s\"\u001b[0m\u001b[1;33m:\u001b[0m\u001b[1;33m\u001b[0m\u001b[1;33m\u001b[0m\u001b[0m\n\u001b[1;32m--> 194\u001b[1;33m             \u001b[0mvalue\u001b[0m \u001b[1;33m=\u001b[0m \u001b[0mself\u001b[0m\u001b[1;33m.\u001b[0m\u001b[0mcheck_string\u001b[0m\u001b[1;33m(\u001b[0m\u001b[0mvalue\u001b[0m\u001b[1;33m)\u001b[0m\u001b[1;33m\u001b[0m\u001b[1;33m\u001b[0m\u001b[0m\n\u001b[0m\u001b[0;32m    195\u001b[0m             \u001b[1;32mif\u001b[0m \u001b[0mlen\u001b[0m\u001b[1;33m(\u001b[0m\u001b[0mvalue\u001b[0m\u001b[1;33m)\u001b[0m \u001b[1;33m>\u001b[0m \u001b[1;36m1\u001b[0m \u001b[1;32mand\u001b[0m \u001b[0mvalue\u001b[0m\u001b[1;33m.\u001b[0m\u001b[0mstartswith\u001b[0m\u001b[1;33m(\u001b[0m\u001b[1;34m\"=\"\u001b[0m\u001b[1;33m)\u001b[0m\u001b[1;33m:\u001b[0m\u001b[1;33m\u001b[0m\u001b[1;33m\u001b[0m\u001b[0m\n\u001b[0;32m    196\u001b[0m                 \u001b[0mself\u001b[0m\u001b[1;33m.\u001b[0m\u001b[0mdata_type\u001b[0m \u001b[1;33m=\u001b[0m \u001b[1;34m'f'\u001b[0m\u001b[1;33m\u001b[0m\u001b[1;33m\u001b[0m\u001b[0m\n",
      "\u001b[1;32mE:\\Anaconda\\envs\\inlibro01\\lib\\site-packages\\openpyxl\\cell\\cell.py\u001b[0m in \u001b[0;36mcheck_string\u001b[1;34m(self, value)\u001b[0m\n\u001b[0;32m    160\u001b[0m         \u001b[0mvalue\u001b[0m \u001b[1;33m=\u001b[0m \u001b[0mvalue\u001b[0m\u001b[1;33m[\u001b[0m\u001b[1;33m:\u001b[0m\u001b[1;36m32767\u001b[0m\u001b[1;33m]\u001b[0m\u001b[1;33m\u001b[0m\u001b[1;33m\u001b[0m\u001b[0m\n\u001b[0;32m    161\u001b[0m         \u001b[1;32mif\u001b[0m \u001b[0mnext\u001b[0m\u001b[1;33m(\u001b[0m\u001b[0mILLEGAL_CHARACTERS_RE\u001b[0m\u001b[1;33m.\u001b[0m\u001b[0mfinditer\u001b[0m\u001b[1;33m(\u001b[0m\u001b[0mvalue\u001b[0m\u001b[1;33m)\u001b[0m\u001b[1;33m,\u001b[0m \u001b[1;32mNone\u001b[0m\u001b[1;33m)\u001b[0m\u001b[1;33m:\u001b[0m\u001b[1;33m\u001b[0m\u001b[1;33m\u001b[0m\u001b[0m\n\u001b[1;32m--> 162\u001b[1;33m             \u001b[1;32mraise\u001b[0m \u001b[0mIllegalCharacterError\u001b[0m\u001b[1;33m\u001b[0m\u001b[1;33m\u001b[0m\u001b[0m\n\u001b[0m\u001b[0;32m    163\u001b[0m         \u001b[1;32mreturn\u001b[0m \u001b[0mvalue\u001b[0m\u001b[1;33m\u001b[0m\u001b[1;33m\u001b[0m\u001b[0m\n\u001b[0;32m    164\u001b[0m \u001b[1;33m\u001b[0m\u001b[0m\n",
      "\u001b[1;31mIllegalCharacterError\u001b[0m: "
     ]
    }
   ],
   "source": [
    "#La premiere ligne\n",
    "for x in range(3,len(wb.sheetnames)):\n",
    "    wb.active = x\n",
    "    for i in range (0,len(s)):\n",
    "        for j in range (0,len(etl.header(s[i]))):\n",
    "            for row in wb.active.iter_rows(min_row=2, min_col=1, max_col=1):\n",
    "                for cell in row:\n",
    "                    cell.value = etl.header(s[i])[j]\n",
    "wb.save(\"racine/sortie/test/profil.xlsx\")"
   ]
  },
  {
   "cell_type": "code",
   "execution_count": null,
   "id": "00b3ca83",
   "metadata": {},
   "outputs": [],
   "source": [
    "#Nombre de valeurs distinctes\n",
    "for x in range(3,len(wb.sheetnames)):\n",
    "    wb.active = x\n",
    "    for i in range (0,len(f)):\n",
    "        c = list(etl.header(s[i]))\n",
    "        for j in range (0,len(c)):\n",
    "            val_dis = list(etl.valuecounter(s[i],c[j]))\n",
    "            for row in wb.active.iter_rows(min_row=2, min_col=3, max_col=3, max_row=11):\n",
    "                for cell in row:\n",
    "                    cell = val_dis[j]\n",
    "wb.save(\"racine/sortie/test/profil.xlsx\")"
   ]
  },
  {
   "cell_type": "code",
   "execution_count": null,
   "id": "225e6456",
   "metadata": {},
   "outputs": [],
   "source": [
    "#Nombre de valeurs vides\n",
    "for x in range(3,len(wb.sheetnames)):\n",
    "    wb.active = x\n",
    "    for i in range (0,len(f)):\n",
    "        c = list(etl.header(s[i]))\n",
    "        for j in range (0,len(c)):\n",
    "            val_mis = list(etl.valuecounter(s[i],c[j]))\n",
    "            for row in wb.active.iter_rows(min_row=2, min_col=4, max_col=4, max_row=11):\n",
    "                for cell in row:\n",
    "                    cell = val_mis[j]\n",
    "wb.save(\"racine/sortie/test/profil.xlsx\")"
   ]
  }
 ],
 "metadata": {
  "kernelspec": {
   "display_name": "Python 3",
   "language": "python",
   "name": "python3"
  },
  "language_info": {
   "codemirror_mode": {
    "name": "ipython",
    "version": 3
   },
   "file_extension": ".py",
   "mimetype": "text/x-python",
   "name": "python",
   "nbconvert_exporter": "python",
   "pygments_lexer": "ipython3",
   "version": "3.7.9"
  }
 },
 "nbformat": 4,
 "nbformat_minor": 5
}
